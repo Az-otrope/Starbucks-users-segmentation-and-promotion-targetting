{
 "cells": [
  {
   "cell_type": "markdown",
   "metadata": {},
   "source": [
    "# Starbucks Capstone Challenge\n",
    "\n",
    "## Introduction\n",
    "\n",
    "This data set contains simulated data that mimics customer behavior on the Starbucks rewards mobile app. Once every few days, Starbucks sends out an offer to users of the mobile app. An offer can be merely an advertisement for a drink or an actual offer such as a discount or BOGO (buy one get one free). Some users might not receive any offer during certain weeks. \n",
    "\n",
    "Not all users receive the same offer, and that is the challenge to solve with this data set.\n",
    "\n",
    "*The project goal* is to combine transaction, demographic and offer data to **determine which demographic groups respond best to which offer type**. This data set is a simplified version of the real Starbucks app because the underlying simulator only has one product whereas Starbucks actually sells dozens of products."
   ]
  },
  {
   "cell_type": "markdown",
   "metadata": {},
   "source": [
    "## Data Sets\n",
    "\n",
    "The data is contained in three files:\n",
    "\n",
    "* portfolio.json - containing offer ids and meta data about each offer (duration, type, etc.)\n",
    "* profile.json - demographic data for each customer\n",
    "* transcript.json - records for transactions, offers received, offers viewed, and offers completed\n",
    "\n",
    "Here is the schema and explanation of each variable in the files:\n",
    "\n",
    "**portfolio.json**\n",
    "* id (string) - offer id\n",
    "* offer_type (string) - type of offer ie BOGO, discount, informational\n",
    "* difficulty (int) - minimum required spend to complete an offer\n",
    "* reward (int) - reward given for completing an offer\n",
    "* duration (int) - time for offer to be open, in days\n",
    "* channels (list of strings)\n",
    "\n",
    "**profile.json**\n",
    "* age (int) - age of the customer \n",
    "* became_member_on (int) - date when customer created an app account\n",
    "* gender (str) - gender of the customer (note some entries contain 'O' for other rather than M or F)\n",
    "* id (str) - customer id\n",
    "* income (float) - customer's income\n",
    "\n",
    "**transcript.json**\n",
    "* event (str) - record description (ie transaction, offer received, offer viewed, etc.)\n",
    "* person (str) - customer id\n",
    "* time (int) - time in hours since start of test. The data begins at time t=0\n",
    "* value - (dict of strings) - either an offer id or transaction amount depending on the record\n"
   ]
  },
  {
   "cell_type": "markdown",
   "metadata": {},
   "source": [
    "# A. Project Deliverables \n",
    "\n",
    "1. Identify which groups of people are most responsive to each type of offer  \n",
    "2. What type offers really excite people?\n",
    "3. How best to present each type of offer?"
   ]
  },
  {
   "cell_type": "code",
   "execution_count": 1,
   "metadata": {},
   "outputs": [],
   "source": [
    "import pandas as pd\n",
    "import numpy as np\n",
    "import seaborn as sns\n",
    "import math\n",
    "import json\n",
    "import datetime\n",
    "\n",
    "from sklearn.preprocessing import StandardScaler\n",
    "from sklearn.decomposition import PCA\n",
    "from sklearn.neighbors import NearestNeighbors\n",
    "from sklearn.cluster import KMeans, OPTICS\n",
    "from yellowbrick.cluster.elbow import kelbow_visualizer\n",
    "\n",
    "from sklearn.model_selection import train_test_split\n",
    "from sklearn.linear_model import LogisticRegression\n",
    "from sklearn.neighbors import KNeighborsClassifier\n",
    "from sklearn.ensemble import RandomForestClassifier\n",
    "from sklearn.model_selection import GridSearchCV\n",
    "from sklearn.model_selection import cross_validate\n",
    "from sklearn import metrics\n",
    "from sklearn.metrics import classification_report, confusion_matrix \n",
    "\n",
    "import matplotlib.pyplot as plt\n",
    "from plotly.subplots import make_subplots\n",
    "import plotly.graph_objects as go\n",
    "import warnings\n",
    "\n",
    "%matplotlib inline\n",
    "warnings.filterwarnings(\"ignore\")"
   ]
  },
  {
   "cell_type": "markdown",
   "metadata": {},
   "source": [
    "# D. Modeling"
   ]
  },
  {
   "cell_type": "markdown",
   "metadata": {},
   "source": [
    "Purpose: Confirm the effectivness of the current user-targeting and promo-offering stratagies used by starbucks\n",
    "\n",
    "Method: build a predictive model to measure conversion accuracy. Use established metrics as baseline for future A/B testing"
   ]
  },
  {
   "cell_type": "markdown",
   "metadata": {},
   "source": [
    "## Thought Process\n",
    "\n",
    "1. Develop a **customer segmentation** model:\n",
    "    - K-means clustering with elbow an silhouette methods\n",
    "    - OPTICS method\n",
    "\n",
    "\n",
    "2. A model to **predict** which customer should receive offers to yield high coversion rate\n",
    "    - are we giving out the promotional offers to the right audiences that increasing the profit?\n",
    "    - the 'complete_valid' column indiciates a true converted customer"
   ]
  },
  {
   "cell_type": "markdown",
   "metadata": {},
   "source": [
    "## D1. Customer Segmentation"
   ]
  },
  {
   "cell_type": "code",
   "execution_count": 113,
   "metadata": {},
   "outputs": [
    {
     "data": {
      "text/html": [
       "<div>\n",
       "<style scoped>\n",
       "    .dataframe tbody tr th:only-of-type {\n",
       "        vertical-align: middle;\n",
       "    }\n",
       "\n",
       "    .dataframe tbody tr th {\n",
       "        vertical-align: top;\n",
       "    }\n",
       "\n",
       "    .dataframe thead th {\n",
       "        text-align: right;\n",
       "    }\n",
       "</style>\n",
       "<table border=\"1\" class=\"dataframe\">\n",
       "  <thead>\n",
       "    <tr style=\"text-align: right;\">\n",
       "      <th></th>\n",
       "      <th>customer_id</th>\n",
       "      <th>gender</th>\n",
       "      <th>age</th>\n",
       "      <th>income</th>\n",
       "      <th>F</th>\n",
       "      <th>M</th>\n",
       "      <th>O</th>\n",
       "      <th>recency</th>\n",
       "      <th>frequency</th>\n",
       "      <th>monetary value</th>\n",
       "      <th>...</th>\n",
       "      <th>received_total</th>\n",
       "      <th>viewed_total</th>\n",
       "      <th>completed_total</th>\n",
       "      <th>email_total</th>\n",
       "      <th>mobile_total</th>\n",
       "      <th>social_total</th>\n",
       "      <th>web_total</th>\n",
       "      <th>recevied_avg</th>\n",
       "      <th>viewed_avg</th>\n",
       "      <th>completed_avg</th>\n",
       "    </tr>\n",
       "  </thead>\n",
       "  <tbody>\n",
       "    <tr>\n",
       "      <th>0</th>\n",
       "      <td>02c083884c7d45b39cc68e1314fec56c</td>\n",
       "      <td>F</td>\n",
       "      <td>20.0</td>\n",
       "      <td>30000.0</td>\n",
       "      <td>1.0</td>\n",
       "      <td>0.0</td>\n",
       "      <td>0.0</td>\n",
       "      <td>18.0</td>\n",
       "      <td>10.0</td>\n",
       "      <td>29.89</td>\n",
       "      <td>...</td>\n",
       "      <td>2.0</td>\n",
       "      <td>1.0</td>\n",
       "      <td>0.0</td>\n",
       "      <td>2.0</td>\n",
       "      <td>1.0</td>\n",
       "      <td>1.0</td>\n",
       "      <td>1.0</td>\n",
       "      <td>1.0</td>\n",
       "      <td>0.5</td>\n",
       "      <td>0.000000</td>\n",
       "    </tr>\n",
       "    <tr>\n",
       "      <th>1</th>\n",
       "      <td>9fa9ae8f57894cc9a3b8a9bbe0fc1b2f</td>\n",
       "      <td>M</td>\n",
       "      <td>42.0</td>\n",
       "      <td>96000.0</td>\n",
       "      <td>0.0</td>\n",
       "      <td>1.0</td>\n",
       "      <td>0.0</td>\n",
       "      <td>23.0</td>\n",
       "      <td>12.0</td>\n",
       "      <td>320.48</td>\n",
       "      <td>...</td>\n",
       "      <td>4.0</td>\n",
       "      <td>4.0</td>\n",
       "      <td>4.0</td>\n",
       "      <td>4.0</td>\n",
       "      <td>3.0</td>\n",
       "      <td>2.0</td>\n",
       "      <td>4.0</td>\n",
       "      <td>1.0</td>\n",
       "      <td>1.0</td>\n",
       "      <td>1.000000</td>\n",
       "    </tr>\n",
       "    <tr>\n",
       "      <th>2</th>\n",
       "      <td>54890f68699049c2a04d415abc25e717</td>\n",
       "      <td>M</td>\n",
       "      <td>36.0</td>\n",
       "      <td>56000.0</td>\n",
       "      <td>0.0</td>\n",
       "      <td>1.0</td>\n",
       "      <td>0.0</td>\n",
       "      <td>29.0</td>\n",
       "      <td>7.0</td>\n",
       "      <td>118.85</td>\n",
       "      <td>...</td>\n",
       "      <td>2.0</td>\n",
       "      <td>2.0</td>\n",
       "      <td>1.0</td>\n",
       "      <td>2.0</td>\n",
       "      <td>2.0</td>\n",
       "      <td>2.0</td>\n",
       "      <td>1.0</td>\n",
       "      <td>1.0</td>\n",
       "      <td>1.0</td>\n",
       "      <td>0.500000</td>\n",
       "    </tr>\n",
       "    <tr>\n",
       "      <th>3</th>\n",
       "      <td>b2f1cd155b864803ad8334cdf13c4bd2</td>\n",
       "      <td>F</td>\n",
       "      <td>55.0</td>\n",
       "      <td>94000.0</td>\n",
       "      <td>1.0</td>\n",
       "      <td>0.0</td>\n",
       "      <td>0.0</td>\n",
       "      <td>24.0</td>\n",
       "      <td>8.0</td>\n",
       "      <td>195.35</td>\n",
       "      <td>...</td>\n",
       "      <td>3.0</td>\n",
       "      <td>3.0</td>\n",
       "      <td>1.0</td>\n",
       "      <td>3.0</td>\n",
       "      <td>3.0</td>\n",
       "      <td>2.0</td>\n",
       "      <td>2.0</td>\n",
       "      <td>1.0</td>\n",
       "      <td>1.0</td>\n",
       "      <td>0.333333</td>\n",
       "    </tr>\n",
       "    <tr>\n",
       "      <th>4</th>\n",
       "      <td>fe97aa22dd3e48c8b143116a8403dd52</td>\n",
       "      <td>F</td>\n",
       "      <td>39.0</td>\n",
       "      <td>67000.0</td>\n",
       "      <td>1.0</td>\n",
       "      <td>0.0</td>\n",
       "      <td>0.0</td>\n",
       "      <td>30.0</td>\n",
       "      <td>11.0</td>\n",
       "      <td>562.77</td>\n",
       "      <td>...</td>\n",
       "      <td>4.0</td>\n",
       "      <td>4.0</td>\n",
       "      <td>0.0</td>\n",
       "      <td>2.0</td>\n",
       "      <td>2.0</td>\n",
       "      <td>1.0</td>\n",
       "      <td>1.0</td>\n",
       "      <td>2.0</td>\n",
       "      <td>2.0</td>\n",
       "      <td>0.000000</td>\n",
       "    </tr>\n",
       "  </tbody>\n",
       "</table>\n",
       "<p>5 rows × 33 columns</p>\n",
       "</div>"
      ],
      "text/plain": [
       "                        customer_id gender   age   income    F    M    O  \\\n",
       "0  02c083884c7d45b39cc68e1314fec56c      F  20.0  30000.0  1.0  0.0  0.0   \n",
       "1  9fa9ae8f57894cc9a3b8a9bbe0fc1b2f      M  42.0  96000.0  0.0  1.0  0.0   \n",
       "2  54890f68699049c2a04d415abc25e717      M  36.0  56000.0  0.0  1.0  0.0   \n",
       "3  b2f1cd155b864803ad8334cdf13c4bd2      F  55.0  94000.0  1.0  0.0  0.0   \n",
       "4  fe97aa22dd3e48c8b143116a8403dd52      F  39.0  67000.0  1.0  0.0  0.0   \n",
       "\n",
       "   recency  frequency  monetary value  ...  received_total  viewed_total  \\\n",
       "0     18.0       10.0           29.89  ...             2.0           1.0   \n",
       "1     23.0       12.0          320.48  ...             4.0           4.0   \n",
       "2     29.0        7.0          118.85  ...             2.0           2.0   \n",
       "3     24.0        8.0          195.35  ...             3.0           3.0   \n",
       "4     30.0       11.0          562.77  ...             4.0           4.0   \n",
       "\n",
       "   completed_total  email_total  mobile_total  social_total  web_total  \\\n",
       "0              0.0          2.0           1.0           1.0        1.0   \n",
       "1              4.0          4.0           3.0           2.0        4.0   \n",
       "2              1.0          2.0           2.0           2.0        1.0   \n",
       "3              1.0          3.0           3.0           2.0        2.0   \n",
       "4              0.0          2.0           2.0           1.0        1.0   \n",
       "\n",
       "   recevied_avg  viewed_avg  completed_avg  \n",
       "0           1.0         0.5       0.000000  \n",
       "1           1.0         1.0       1.000000  \n",
       "2           1.0         1.0       0.500000  \n",
       "3           1.0         1.0       0.333333  \n",
       "4           2.0         2.0       0.000000  \n",
       "\n",
       "[5 rows x 33 columns]"
      ]
     },
     "execution_count": 113,
     "metadata": {},
     "output_type": "execute_result"
    }
   ],
   "source": [
    "customer_promo.head()"
   ]
  },
  {
   "cell_type": "code",
   "execution_count": 114,
   "metadata": {},
   "outputs": [],
   "source": [
    "# make the 'customer_id' column as index and drop the 'gender' cols \n",
    "# because the scaler can't apply on str\n",
    "customer_promo.drop(['gender'],axis=1,inplace=True)\n",
    "customer_promo.set_index('customer_id',inplace=True)"
   ]
  },
  {
   "cell_type": "markdown",
   "metadata": {},
   "source": [
    "### D1.a. Feature Scaling"
   ]
  },
  {
   "cell_type": "code",
   "execution_count": 116,
   "metadata": {},
   "outputs": [],
   "source": [
    "scaler = StandardScaler().fit(customer_promo)\n",
    "customer_promo_scaled = scaler.transform(customer_promo)"
   ]
  },
  {
   "cell_type": "markdown",
   "metadata": {},
   "source": [
    "### D1.b. Dimensionality Reduction using PCA"
   ]
  },
  {
   "cell_type": "code",
   "execution_count": 117,
   "metadata": {},
   "outputs": [],
   "source": [
    "# instantiate a PCA object\n",
    "pca = PCA()\n",
    "# fit the PCA on the scaled dataset and transform it\n",
    "X_pca = pca.fit_transform(customer_promo_scaled)"
   ]
  },
  {
   "cell_type": "code",
   "execution_count": 118,
   "metadata": {},
   "outputs": [],
   "source": [
    "# individual explained variance \n",
    "var_exp = pca.explained_variance_ratio_"
   ]
  },
  {
   "cell_type": "code",
   "execution_count": 119,
   "metadata": {},
   "outputs": [
    {
     "data": {
      "image/png": "[encoded data removed]",
      "text/plain": [
       "<Figure size 432x288 with 1 Axes>"
      ]
     },
     "metadata": {
      "needs_background": "light"
     },
     "output_type": "display_data"
    }
   ],
   "source": [
    "# Plot the explained variance ratios\n",
    "x = np.arange(len(var_exp))\n",
    "plt.bar(x, var_exp, label='individual explained variance')\n",
    "plt.step(x, np.cumsum(var_exp), label='cumulative explained variance')\n",
    "\n",
    "plt.xlabel(\"Principle Components'\")\n",
    "plt.ylabel(\"Explained Variance Ratio\")\n",
    "plt.legend(loc='best')\n",
    "plt.title(\"Variance Explained by PCA's\")\n",
    "\n",
    "plt.tight_layout()"
   ]
  },
  {
   "cell_type": "markdown",
   "metadata": {},
   "source": [
    "**__ Insights __**\n",
    "- The first 5 components explained about 75% of the variance\n",
    "- The first 10 components explained about 90% of the variance \n",
    "- Starting the 6th to the 10th, I don't observe much variance change. I'm going to choose 80% (about average) variance as the top limit to find the optimal principal components"
   ]
  },
  {
   "cell_type": "code",
   "execution_count": 120,
   "metadata": {},
   "outputs": [],
   "source": [
    "# cumulative explained variances\n",
    "cum_var_exp = np.cumsum(var_exp)\n",
    "# number of components is the size of the matrix where the cumulative sum is <= 80%\n",
    "n_components = len(cum_var_exp[cum_var_exp<= 0.8])\n",
    "\n",
    "# reduce the dimensionality with the generated numbers of principle components \n",
    "pca = PCA(n_components=n_components).fit(customer_promo_scaled)\n",
    "# transform the dataset\n",
    "X_pca = pca.fit_transform(customer_promo_scaled) "
   ]
  },
  {
   "cell_type": "markdown",
   "metadata": {},
   "source": [
    "### D1.c. Find the optimal number of clusters"
   ]
  },
  {
   "cell_type": "markdown",
   "metadata": {},
   "source": [
    "### Using K-means"
   ]
  },
  {
   "cell_type": "code",
   "execution_count": 121,
   "metadata": {},
   "outputs": [],
   "source": [
    "from yellowbrick.cluster import KElbowVisualizer"
   ]
  },
  {
   "cell_type": "code",
   "execution_count": 122,
   "metadata": {},
   "outputs": [
    {
     "data": {
      "image/png": "[encoded data removed]",
      "text/plain": [
       "<Figure size 432x288 with 2 Axes>"
      ]
     },
     "metadata": {},
     "output_type": "display_data"
    },
    {
     "data": {
      "text/plain": [
       "KElbowVisualizer(ax=<AxesSubplot:title={'center':'Distortion Score Elbow for KMeans Clustering'}, xlabel='k', ylabel='distortion score'>,\n",
       "                 estimator=KMeans(n_clusters=14), k=(1, 15))"
      ]
     },
     "execution_count": 122,
     "metadata": {},
     "output_type": "execute_result"
    }
   ],
   "source": [
    "# elbow method\n",
    "kelbow_visualizer(KMeans(), X_pca, k=(1,15))"
   ]
  },
  {
   "cell_type": "code",
   "execution_count": 123,
   "metadata": {},
   "outputs": [
    {
     "data": {
      "image/png": "[encoded data removed]",
      "text/plain": [
       "<Figure size 432x288 with 2 Axes>"
      ]
     },
     "metadata": {},
     "output_type": "display_data"
    },
    {
     "data": {
      "text/plain": [
       "KElbowVisualizer(ax=<AxesSubplot:title={'center':'Silhouette Score Elbow for KMeans Clustering'}, xlabel='k', ylabel='silhouette score'>,\n",
       "                 estimator=KMeans(n_clusters=13), k=(2, 14),\n",
       "                 metric='silhouette')"
      ]
     },
     "execution_count": 123,
     "metadata": {},
     "output_type": "execute_result"
    }
   ],
   "source": [
    "# silhouette method\n",
    "kelbow_visualizer(KMeans(), X_pca, k=(2,14), metric='silhouette')"
   ]
  },
  {
   "cell_type": "markdown",
   "metadata": {},
   "source": [
    "**__ Foundings __**\n",
    "\n",
    "Both elbow and silhouette methods result in **cluster = 4**"
   ]
  },
  {
   "cell_type": "code",
   "execution_count": 124,
   "metadata": {},
   "outputs": [],
   "source": [
    "# instansiate a k-means model with 4 clusters\n",
    "model = KMeans(n_clusters=4, random_state=28).fit(X_pca)\n",
    "# predict the cluster each data point belong to\n",
    "kmeans_clusters = model.predict(X_pca)"
   ]
  },
  {
   "cell_type": "code",
   "execution_count": 125,
   "metadata": {},
   "outputs": [
    {
     "data": {
      "text/plain": [
       "array([2, 3, 0, ..., 1, 1, 1], dtype=int32)"
      ]
     },
     "execution_count": 125,
     "metadata": {},
     "output_type": "execute_result"
    }
   ],
   "source": [
    "kmeans_clusters"
   ]
  },
  {
   "cell_type": "markdown",
   "metadata": {},
   "source": [
    "### Using OPTICS"
   ]
  },
  {
   "cell_type": "code",
   "execution_count": 126,
   "metadata": {},
   "outputs": [],
   "source": [
    "# define the model\n",
    "model = OPTICS(eps = 0.8, min_samples=35)\n",
    "# fit model and predict clusters\n",
    "optics_clusters = model.fit_predict(X_pca)\n",
    "# retrieve unique clusters\n",
    "clusters = np.unique(optics_clusters)"
   ]
  },
  {
   "cell_type": "code",
   "execution_count": 127,
   "metadata": {},
   "outputs": [
    {
     "name": "stdout",
     "output_type": "stream",
     "text": [
      "Number of clusters analyzed by OPTICS: 4\n"
     ]
    }
   ],
   "source": [
    "print('Number of clusters analyzed by OPTICS:', len(clusters))"
   ]
  },
  {
   "cell_type": "code",
   "execution_count": 128,
   "metadata": {},
   "outputs": [
    {
     "data": {
      "image/png": "[encoded data removed]",
      "text/plain": [
       "<Figure size 432x288 with 1 Axes>"
      ]
     },
     "metadata": {
      "needs_background": "light"
     },
     "output_type": "display_data"
    }
   ],
   "source": [
    "# create scatter plot for samples from each cluster\n",
    "for cluster in clusters:\n",
    "    # get row indexes for samples with this cluster\n",
    "    row_ix = np.where(optics_clusters == cluster)\n",
    "    # create scatter of these samples\n",
    "    plt.scatter(X_pca[row_ix, 0], X_pca[row_ix, 1])\n",
    "# show the plot\n",
    "plt.show()"
   ]
  },
  {
   "cell_type": "code",
   "execution_count": 129,
   "metadata": {},
   "outputs": [
    {
     "data": {
      "text/plain": [
       "<AxesSubplot:ylabel='Count'>"
      ]
     },
     "execution_count": 129,
     "metadata": {},
     "output_type": "execute_result"
    },
    {
     "data": {
      "image/png": "[encoded data removed]",
      "text/plain": [
       "<Figure size 432x288 with 1 Axes>"
      ]
     },
     "metadata": {
      "needs_background": "light"
     },
     "output_type": "display_data"
    }
   ],
   "source": [
    "sns.histplot(optics_clusters)"
   ]
  },
  {
   "cell_type": "markdown",
   "metadata": {},
   "source": [
    "**__ Foundings __**\n",
    "\n",
    "OPTICS method produces **4 clusters**, but there is a lot of noise (-1)"
   ]
  },
  {
   "cell_type": "markdown",
   "metadata": {},
   "source": [
    "### D1.d. Evaluate the segmentation"
   ]
  },
  {
   "cell_type": "markdown",
   "metadata": {},
   "source": [
    "### K-means"
   ]
  },
  {
   "cell_type": "code",
   "execution_count": 130,
   "metadata": {},
   "outputs": [
    {
     "data": {
      "text/html": [
       "<div>\n",
       "<style scoped>\n",
       "    .dataframe tbody tr th:only-of-type {\n",
       "        vertical-align: middle;\n",
       "    }\n",
       "\n",
       "    .dataframe tbody tr th {\n",
       "        vertical-align: top;\n",
       "    }\n",
       "\n",
       "    .dataframe thead th {\n",
       "        text-align: right;\n",
       "    }\n",
       "</style>\n",
       "<table border=\"1\" class=\"dataframe\">\n",
       "  <thead>\n",
       "    <tr style=\"text-align: right;\">\n",
       "      <th></th>\n",
       "      <th>customer_id</th>\n",
       "      <th>age</th>\n",
       "      <th>income</th>\n",
       "      <th>F</th>\n",
       "      <th>M</th>\n",
       "      <th>O</th>\n",
       "      <th>recency</th>\n",
       "      <th>frequency</th>\n",
       "      <th>monetary value</th>\n",
       "      <th>informational_vr</th>\n",
       "      <th>...</th>\n",
       "      <th>viewed_total</th>\n",
       "      <th>completed_total</th>\n",
       "      <th>email_total</th>\n",
       "      <th>mobile_total</th>\n",
       "      <th>social_total</th>\n",
       "      <th>web_total</th>\n",
       "      <th>recevied_avg</th>\n",
       "      <th>viewed_avg</th>\n",
       "      <th>completed_avg</th>\n",
       "      <th>cluster</th>\n",
       "    </tr>\n",
       "  </thead>\n",
       "  <tbody>\n",
       "    <tr>\n",
       "      <th>0</th>\n",
       "      <td>02c083884c7d45b39cc68e1314fec56c</td>\n",
       "      <td>20.0</td>\n",
       "      <td>30000.0</td>\n",
       "      <td>1.0</td>\n",
       "      <td>0.0</td>\n",
       "      <td>0.0</td>\n",
       "      <td>18.0</td>\n",
       "      <td>10.0</td>\n",
       "      <td>29.89</td>\n",
       "      <td>0.0</td>\n",
       "      <td>...</td>\n",
       "      <td>1.0</td>\n",
       "      <td>0.0</td>\n",
       "      <td>2.0</td>\n",
       "      <td>1.0</td>\n",
       "      <td>1.0</td>\n",
       "      <td>1.0</td>\n",
       "      <td>1.0</td>\n",
       "      <td>0.5</td>\n",
       "      <td>0.000000</td>\n",
       "      <td>2</td>\n",
       "    </tr>\n",
       "    <tr>\n",
       "      <th>1</th>\n",
       "      <td>9fa9ae8f57894cc9a3b8a9bbe0fc1b2f</td>\n",
       "      <td>42.0</td>\n",
       "      <td>96000.0</td>\n",
       "      <td>0.0</td>\n",
       "      <td>1.0</td>\n",
       "      <td>0.0</td>\n",
       "      <td>23.0</td>\n",
       "      <td>12.0</td>\n",
       "      <td>320.48</td>\n",
       "      <td>0.0</td>\n",
       "      <td>...</td>\n",
       "      <td>4.0</td>\n",
       "      <td>4.0</td>\n",
       "      <td>4.0</td>\n",
       "      <td>3.0</td>\n",
       "      <td>2.0</td>\n",
       "      <td>4.0</td>\n",
       "      <td>1.0</td>\n",
       "      <td>1.0</td>\n",
       "      <td>1.000000</td>\n",
       "      <td>3</td>\n",
       "    </tr>\n",
       "    <tr>\n",
       "      <th>2</th>\n",
       "      <td>54890f68699049c2a04d415abc25e717</td>\n",
       "      <td>36.0</td>\n",
       "      <td>56000.0</td>\n",
       "      <td>0.0</td>\n",
       "      <td>1.0</td>\n",
       "      <td>0.0</td>\n",
       "      <td>29.0</td>\n",
       "      <td>7.0</td>\n",
       "      <td>118.85</td>\n",
       "      <td>1.0</td>\n",
       "      <td>...</td>\n",
       "      <td>2.0</td>\n",
       "      <td>1.0</td>\n",
       "      <td>2.0</td>\n",
       "      <td>2.0</td>\n",
       "      <td>2.0</td>\n",
       "      <td>1.0</td>\n",
       "      <td>1.0</td>\n",
       "      <td>1.0</td>\n",
       "      <td>0.500000</td>\n",
       "      <td>0</td>\n",
       "    </tr>\n",
       "    <tr>\n",
       "      <th>3</th>\n",
       "      <td>b2f1cd155b864803ad8334cdf13c4bd2</td>\n",
       "      <td>55.0</td>\n",
       "      <td>94000.0</td>\n",
       "      <td>1.0</td>\n",
       "      <td>0.0</td>\n",
       "      <td>0.0</td>\n",
       "      <td>24.0</td>\n",
       "      <td>8.0</td>\n",
       "      <td>195.35</td>\n",
       "      <td>1.0</td>\n",
       "      <td>...</td>\n",
       "      <td>3.0</td>\n",
       "      <td>1.0</td>\n",
       "      <td>3.0</td>\n",
       "      <td>3.0</td>\n",
       "      <td>2.0</td>\n",
       "      <td>2.0</td>\n",
       "      <td>1.0</td>\n",
       "      <td>1.0</td>\n",
       "      <td>0.333333</td>\n",
       "      <td>0</td>\n",
       "    </tr>\n",
       "    <tr>\n",
       "      <th>4</th>\n",
       "      <td>fe97aa22dd3e48c8b143116a8403dd52</td>\n",
       "      <td>39.0</td>\n",
       "      <td>67000.0</td>\n",
       "      <td>1.0</td>\n",
       "      <td>0.0</td>\n",
       "      <td>0.0</td>\n",
       "      <td>30.0</td>\n",
       "      <td>11.0</td>\n",
       "      <td>562.77</td>\n",
       "      <td>1.0</td>\n",
       "      <td>...</td>\n",
       "      <td>4.0</td>\n",
       "      <td>0.0</td>\n",
       "      <td>2.0</td>\n",
       "      <td>2.0</td>\n",
       "      <td>1.0</td>\n",
       "      <td>1.0</td>\n",
       "      <td>2.0</td>\n",
       "      <td>2.0</td>\n",
       "      <td>0.000000</td>\n",
       "      <td>0</td>\n",
       "    </tr>\n",
       "  </tbody>\n",
       "</table>\n",
       "<p>5 rows × 32 columns</p>\n",
       "</div>"
      ],
      "text/plain": [
       "                        customer_id   age   income    F    M    O  recency  \\\n",
       "0  02c083884c7d45b39cc68e1314fec56c  20.0  30000.0  1.0  0.0  0.0     18.0   \n",
       "1  9fa9ae8f57894cc9a3b8a9bbe0fc1b2f  42.0  96000.0  0.0  1.0  0.0     23.0   \n",
       "2  54890f68699049c2a04d415abc25e717  36.0  56000.0  0.0  1.0  0.0     29.0   \n",
       "3  b2f1cd155b864803ad8334cdf13c4bd2  55.0  94000.0  1.0  0.0  0.0     24.0   \n",
       "4  fe97aa22dd3e48c8b143116a8403dd52  39.0  67000.0  1.0  0.0  0.0     30.0   \n",
       "\n",
       "   frequency  monetary value  informational_vr  ...  viewed_total  \\\n",
       "0       10.0           29.89               0.0  ...           1.0   \n",
       "1       12.0          320.48               0.0  ...           4.0   \n",
       "2        7.0          118.85               1.0  ...           2.0   \n",
       "3        8.0          195.35               1.0  ...           3.0   \n",
       "4       11.0          562.77               1.0  ...           4.0   \n",
       "\n",
       "   completed_total  email_total  mobile_total  social_total  web_total  \\\n",
       "0              0.0          2.0           1.0           1.0        1.0   \n",
       "1              4.0          4.0           3.0           2.0        4.0   \n",
       "2              1.0          2.0           2.0           2.0        1.0   \n",
       "3              1.0          3.0           3.0           2.0        2.0   \n",
       "4              0.0          2.0           2.0           1.0        1.0   \n",
       "\n",
       "   recevied_avg  viewed_avg  completed_avg  cluster  \n",
       "0           1.0         0.5       0.000000        2  \n",
       "1           1.0         1.0       1.000000        3  \n",
       "2           1.0         1.0       0.500000        0  \n",
       "3           1.0         1.0       0.333333        0  \n",
       "4           2.0         2.0       0.000000        0  \n",
       "\n",
       "[5 rows x 32 columns]"
      ]
     },
     "execution_count": 130,
     "metadata": {},
     "output_type": "execute_result"
    }
   ],
   "source": [
    "cp_kmeans = customer_promo.copy().reset_index()\n",
    "\n",
    "# create 'cluster' col containing predicted values (aka clusters 1-4) \n",
    "cp_kmeans['cluster'] = kmeans_clusters\n",
    "# drop the 'informational_cr' col since they're all 0s\n",
    "cp_kmeans.drop(['informational_cr'], axis=1, inplace=True)\n",
    "\n",
    "cp_kmeans.head()"
   ]
  },
  {
   "cell_type": "code",
   "execution_count": 131,
   "metadata": {},
   "outputs": [
    {
     "data": {
      "text/html": [
       "<div>\n",
       "<style scoped>\n",
       "    .dataframe tbody tr th:only-of-type {\n",
       "        vertical-align: middle;\n",
       "    }\n",
       "\n",
       "    .dataframe tbody tr th {\n",
       "        vertical-align: top;\n",
       "    }\n",
       "\n",
       "    .dataframe thead th {\n",
       "        text-align: right;\n",
       "    }\n",
       "</style>\n",
       "<table border=\"1\" class=\"dataframe\">\n",
       "  <thead>\n",
       "    <tr style=\"text-align: right;\">\n",
       "      <th></th>\n",
       "      <th>customer_id</th>\n",
       "      <th>cluster</th>\n",
       "      <th>variable</th>\n",
       "      <th>value</th>\n",
       "    </tr>\n",
       "  </thead>\n",
       "  <tbody>\n",
       "    <tr>\n",
       "      <th>0</th>\n",
       "      <td>02c083884c7d45b39cc68e1314fec56c</td>\n",
       "      <td>2</td>\n",
       "      <td>age</td>\n",
       "      <td>20.0</td>\n",
       "    </tr>\n",
       "    <tr>\n",
       "      <th>1</th>\n",
       "      <td>9fa9ae8f57894cc9a3b8a9bbe0fc1b2f</td>\n",
       "      <td>3</td>\n",
       "      <td>age</td>\n",
       "      <td>42.0</td>\n",
       "    </tr>\n",
       "    <tr>\n",
       "      <th>2</th>\n",
       "      <td>54890f68699049c2a04d415abc25e717</td>\n",
       "      <td>0</td>\n",
       "      <td>age</td>\n",
       "      <td>36.0</td>\n",
       "    </tr>\n",
       "    <tr>\n",
       "      <th>3</th>\n",
       "      <td>b2f1cd155b864803ad8334cdf13c4bd2</td>\n",
       "      <td>0</td>\n",
       "      <td>age</td>\n",
       "      <td>55.0</td>\n",
       "    </tr>\n",
       "    <tr>\n",
       "      <th>4</th>\n",
       "      <td>fe97aa22dd3e48c8b143116a8403dd52</td>\n",
       "      <td>0</td>\n",
       "      <td>age</td>\n",
       "      <td>39.0</td>\n",
       "    </tr>\n",
       "  </tbody>\n",
       "</table>\n",
       "</div>"
      ],
      "text/plain": [
       "                        customer_id  cluster variable  value\n",
       "0  02c083884c7d45b39cc68e1314fec56c        2      age   20.0\n",
       "1  9fa9ae8f57894cc9a3b8a9bbe0fc1b2f        3      age   42.0\n",
       "2  54890f68699049c2a04d415abc25e717        0      age   36.0\n",
       "3  b2f1cd155b864803ad8334cdf13c4bd2        0      age   55.0\n",
       "4  fe97aa22dd3e48c8b143116a8403dd52        0      age   39.0"
      ]
     },
     "execution_count": 131,
     "metadata": {},
     "output_type": "execute_result"
    }
   ],
   "source": [
    "cp_kmeans = cp_kmeans.melt(id_vars=['customer_id','cluster'])\n",
    "cp_kmeans.head()"
   ]
  },
  {
   "cell_type": "code",
   "execution_count": 132,
   "metadata": {},
   "outputs": [
    {
     "data": {
      "text/plain": [
       "3    145260\n",
       "1    125130\n",
       "2     91620\n",
       "0     82230\n",
       "Name: cluster, dtype: int64"
      ]
     },
     "execution_count": 132,
     "metadata": {},
     "output_type": "execute_result"
    }
   ],
   "source": [
    "# What are the clusters\n",
    "cp_kmeans['cluster'].value_counts()"
   ]
  },
  {
   "cell_type": "code",
   "execution_count": 133,
   "metadata": {},
   "outputs": [
    {
     "data": {
      "text/html": [
       "<div>\n",
       "<style scoped>\n",
       "    .dataframe tbody tr th:only-of-type {\n",
       "        vertical-align: middle;\n",
       "    }\n",
       "\n",
       "    .dataframe tbody tr th {\n",
       "        vertical-align: top;\n",
       "    }\n",
       "\n",
       "    .dataframe thead th {\n",
       "        text-align: right;\n",
       "    }\n",
       "</style>\n",
       "<table border=\"1\" class=\"dataframe\">\n",
       "  <thead>\n",
       "    <tr style=\"text-align: right;\">\n",
       "      <th></th>\n",
       "      <th>cluster</th>\n",
       "      <th>variable</th>\n",
       "      <th>value</th>\n",
       "    </tr>\n",
       "  </thead>\n",
       "  <tbody>\n",
       "    <tr>\n",
       "      <th>0</th>\n",
       "      <td>0</td>\n",
       "      <td>F</td>\n",
       "      <td>0.456403</td>\n",
       "    </tr>\n",
       "    <tr>\n",
       "      <th>1</th>\n",
       "      <td>0</td>\n",
       "      <td>M</td>\n",
       "      <td>0.523167</td>\n",
       "    </tr>\n",
       "    <tr>\n",
       "      <th>2</th>\n",
       "      <td>0</td>\n",
       "      <td>O</td>\n",
       "      <td>0.011310</td>\n",
       "    </tr>\n",
       "    <tr>\n",
       "      <th>3</th>\n",
       "      <td>0</td>\n",
       "      <td>age</td>\n",
       "      <td>55.120029</td>\n",
       "    </tr>\n",
       "    <tr>\n",
       "      <th>4</th>\n",
       "      <td>0</td>\n",
       "      <td>bogo_cr</td>\n",
       "      <td>0.003101</td>\n",
       "    </tr>\n",
       "    <tr>\n",
       "      <th>...</th>\n",
       "      <td>...</td>\n",
       "      <td>...</td>\n",
       "      <td>...</td>\n",
       "    </tr>\n",
       "    <tr>\n",
       "      <th>115</th>\n",
       "      <td>3</td>\n",
       "      <td>social_total</td>\n",
       "      <td>2.585915</td>\n",
       "    </tr>\n",
       "    <tr>\n",
       "      <th>116</th>\n",
       "      <td>3</td>\n",
       "      <td>total_cr</td>\n",
       "      <td>0.889515</td>\n",
       "    </tr>\n",
       "    <tr>\n",
       "      <th>117</th>\n",
       "      <td>3</td>\n",
       "      <td>viewed_avg</td>\n",
       "      <td>1.102657</td>\n",
       "    </tr>\n",
       "    <tr>\n",
       "      <th>118</th>\n",
       "      <td>3</td>\n",
       "      <td>viewed_total</td>\n",
       "      <td>4.151384</td>\n",
       "    </tr>\n",
       "    <tr>\n",
       "      <th>119</th>\n",
       "      <td>3</td>\n",
       "      <td>web_total</td>\n",
       "      <td>3.048947</td>\n",
       "    </tr>\n",
       "  </tbody>\n",
       "</table>\n",
       "<p>120 rows × 3 columns</p>\n",
       "</div>"
      ],
      "text/plain": [
       "     cluster      variable      value\n",
       "0          0             F   0.456403\n",
       "1          0             M   0.523167\n",
       "2          0             O   0.011310\n",
       "3          0           age  55.120029\n",
       "4          0       bogo_cr   0.003101\n",
       "..       ...           ...        ...\n",
       "115        3  social_total   2.585915\n",
       "116        3      total_cr   0.889515\n",
       "117        3    viewed_avg   1.102657\n",
       "118        3  viewed_total   4.151384\n",
       "119        3     web_total   3.048947\n",
       "\n",
       "[120 rows x 3 columns]"
      ]
     },
     "execution_count": 133,
     "metadata": {},
     "output_type": "execute_result"
    }
   ],
   "source": [
    "cp_kmeans = cp_kmeans.groupby(['cluster','variable']).mean().reset_index()\n",
    "cp_kmeans"
   ]
  },
  {
   "cell_type": "code",
   "execution_count": 134,
   "metadata": {},
   "outputs": [
    {
     "data": {
      "image/png": "[encoded data removed]",
      "text/plain": [
       "<Figure size 864x720 with 30 Axes>"
      ]
     },
     "metadata": {
      "needs_background": "light"
     },
     "output_type": "display_data"
    }
   ],
   "source": [
    "# Graph the groupby dataset above\n",
    "g_kmeans = sns.FacetGrid(cp_kmeans, col='variable', hue='cluster', col_wrap=6, height=2, sharey=False)\n",
    "g_kmeans = g_kmeans.map(plt.bar, 'cluster', 'value').set_titles(\"{col_name}\")"
   ]
  },
  {
   "cell_type": "markdown",
   "metadata": {},
   "source": [
    "### OPTICS"
   ]
  },
  {
   "cell_type": "code",
   "execution_count": 135,
   "metadata": {},
   "outputs": [
    {
     "data": {
      "text/plain": [
       "-1    455018\n",
       " 0      1457\n",
       " 1      1395\n",
       " 2      1178\n",
       "Name: cluster, dtype: int64"
      ]
     },
     "execution_count": 135,
     "metadata": {},
     "output_type": "execute_result"
    }
   ],
   "source": [
    "cp_optics = customer_promo.copy().reset_index()\n",
    "\n",
    "# create 'cluster' col with predicted values\n",
    "cp_optics['cluster'] = optics_clusters # from section D1.c\n",
    "cp_optics = cp_optics.melt(id_vars=['customer_id','cluster'])\n",
    "cp_optics['cluster'].value_counts()"
   ]
  },
  {
   "cell_type": "code",
   "execution_count": 136,
   "metadata": {},
   "outputs": [
    {
     "data": {
      "text/html": [
       "<div>\n",
       "<style scoped>\n",
       "    .dataframe tbody tr th:only-of-type {\n",
       "        vertical-align: middle;\n",
       "    }\n",
       "\n",
       "    .dataframe tbody tr th {\n",
       "        vertical-align: top;\n",
       "    }\n",
       "\n",
       "    .dataframe thead th {\n",
       "        text-align: right;\n",
       "    }\n",
       "</style>\n",
       "<table border=\"1\" class=\"dataframe\">\n",
       "  <thead>\n",
       "    <tr style=\"text-align: right;\">\n",
       "      <th></th>\n",
       "      <th>cluster</th>\n",
       "      <th>variable</th>\n",
       "      <th>value</th>\n",
       "    </tr>\n",
       "  </thead>\n",
       "  <tbody>\n",
       "    <tr>\n",
       "      <th>0</th>\n",
       "      <td>0</td>\n",
       "      <td>F</td>\n",
       "      <td>1.00000</td>\n",
       "    </tr>\n",
       "    <tr>\n",
       "      <th>1</th>\n",
       "      <td>0</td>\n",
       "      <td>M</td>\n",
       "      <td>0.00000</td>\n",
       "    </tr>\n",
       "    <tr>\n",
       "      <th>2</th>\n",
       "      <td>0</td>\n",
       "      <td>O</td>\n",
       "      <td>0.00000</td>\n",
       "    </tr>\n",
       "    <tr>\n",
       "      <th>3</th>\n",
       "      <td>0</td>\n",
       "      <td>age</td>\n",
       "      <td>61.12766</td>\n",
       "    </tr>\n",
       "    <tr>\n",
       "      <th>4</th>\n",
       "      <td>0</td>\n",
       "      <td>bogo_cr</td>\n",
       "      <td>0.00000</td>\n",
       "    </tr>\n",
       "  </tbody>\n",
       "</table>\n",
       "</div>"
      ],
      "text/plain": [
       "   cluster variable     value\n",
       "0        0        F   1.00000\n",
       "1        0        M   0.00000\n",
       "2        0        O   0.00000\n",
       "3        0      age  61.12766\n",
       "4        0  bogo_cr   0.00000"
      ]
     },
     "execution_count": 136,
     "metadata": {},
     "output_type": "execute_result"
    }
   ],
   "source": [
    "cp_optics = cp_optics.query('cluster != -1').groupby(['cluster','variable']).mean().reset_index()\n",
    "cp_optics.head()"
   ]
  },
  {
   "cell_type": "code",
   "execution_count": 137,
   "metadata": {},
   "outputs": [
    {
     "data": {
      "image/png": "[encoded data removed]",
      "text/plain": [
       "<Figure size 864x864 with 31 Axes>"
      ]
     },
     "metadata": {
      "needs_background": "light"
     },
     "output_type": "display_data"
    }
   ],
   "source": [
    "g_optics = sns.FacetGrid(cp_optics, col='variable', hue='cluster', col_wrap=6, height=2, sharey=False)\n",
    "g_optics = g_optics.map(plt.bar, 'cluster', 'value').set_titles(\"{col_name}\");"
   ]
  },
  {
   "cell_type": "markdown",
   "metadata": {},
   "source": [
    "### D1.e. Segmentation Conclusions\n",
    "\n",
    "I'm going to analazye the clusters based on Kmeans method because it produces more distinguished and pronounced clusters than OPTICS. Recall the graphs for followed analysis.\n",
    "\n",
    "There are four clusters coded in colors: blue, green, red, and purple."
   ]
  },
  {
   "cell_type": "code",
   "execution_count": 138,
   "metadata": {},
   "outputs": [
    {
     "data": {
      "image/png": "[encoded data removed]",
      "text/plain": [
       "<Figure size 864x720 with 30 Axes>"
      ]
     },
     "metadata": {
      "needs_background": "light"
     },
     "output_type": "display_data"
    }
   ],
   "source": [
    "g_kmeans = g_kmeans.map(plt.bar, 'cluster', 'value').set_titles(\"{col_name}\")"
   ]
  },
  {
   "cell_type": "markdown",
   "metadata": {},
   "source": [
    "### Segment 1 (blue)\n",
    "\n",
    "Customers in this segment receive **rarely to no BOGO offers**. They recevie *mainly discount offers* and informational ones. Given discount offers received, the customers convey an average convert rate.\n",
    "\n",
    "This group makes frequent and regular purchases (frequency, monetary value). Thus, either they *can continue to receive some promotional offers or not*. It's likely that they will make purchases at Starbucks regardless.\n",
    "\n",
    "### Segment 2 (green)\n",
    "\n",
    "Customers in this segment exhibits a **very low conversion rate but receive offers regularly**. This group receives all 3 promotional offers via all channels. Although their **view rates score slighly high on average**, the completed rates and **total conversion rates are very low**. \n",
    "\n",
    "Most customers in this group idetify as **Male and has a lower income on average** compared to the other groups. It is recommended to **stop sending offers** to this group for future campaign. \n",
    "\n",
    "### Segment 3 (red)\n",
    "\n",
    "Customers in this segment receive **mainly BOGO offers and they convert very well**. This group receive BOGO offers regularly and higher than average, but lower in discount offers. Their completed rate on BOGO offers and total conversion rate are high (total_cr). Although the data showed that the level of marketing reachout is only average (mobile, web, and social), this group is very interactive to the received offers. \n",
    "\n",
    "The demographic of this group consits of **female and male identified** with average age and income similarly to the other three groups. It's recommended to **target this group** with *more BOGO* offers  \n",
    "\n",
    "\n",
    "### Segment 4 (purple)\n",
    "\n",
    "Customers in this segment **oftenly receive offers and they convert very well**. They receive all promotinal offer types (BOGO, discount, and informational) via all channels. \n",
    "\n",
    "It's observed that this group on average viewed and completed that offers higher than other groups (viewed_total, completed_total), which results in **very high conversion rates** for both discount and BOGO (discount_cr, bogo_cr, total_cr). It seems like customers in this group are *more receptive to discount* than bogo and they also frequently make purchases (frequency). \n",
    "\n",
    "The attributes of this group are **genders identified as Female and Male** with similar age and income compared to the average of the other segments. This group should continue to **be the target** of the promotional stategy.  "
   ]
  },
  {
   "cell_type": "code",
   "execution_count": 139,
   "metadata": {},
   "outputs": [],
   "source": [
    "# copy the original dataset because the cp_kmeans is a groupby table\n",
    "c_segments = customer_promo.copy().reset_index()\n",
    "c_segments['cluster'] = kmeans_clusters\n",
    "c_segments = c_segments.melt(id_vars=['customer_id','cluster'])"
   ]
  },
  {
   "cell_type": "code",
   "execution_count": 140,
   "metadata": {},
   "outputs": [
    {
     "data": {
      "text/plain": [
       "[Text(0.5, 1.0, 'Customers Count in each Clusters')]"
      ]
     },
     "execution_count": 140,
     "metadata": {},
     "output_type": "execute_result"
    },
    {
     "data": {
      "image/png": "[encoded data removed]",
      "text/plain": [
       "<Figure size 432x288 with 1 Axes>"
      ]
     },
     "metadata": {
      "needs_background": "light"
     },
     "output_type": "display_data"
    }
   ],
   "source": [
    "sns.countplot(c_segments['cluster']).set(title='Customers Count in each Clusters')"
   ]
  },
  {
   "cell_type": "markdown",
   "metadata": {},
   "source": [
    "## D2. Predictive Model\n",
    "\n",
    "I'm going to use the following classification models:\n",
    "\n",
    "- Logistic Regression\n",
    "- KNN\n",
    "- Random Forest\n",
    "\n",
    "### Evaluate the important metrics\n",
    "\n",
    "Since it costs money to send out the promotional offers, I want to focus on **accuracy and precision**. \n",
    "\n",
    "Based on the current clusters (see graph above), it looks like there are a significant amount of customers that receive offers but never convert. Thus, I want to stop sending out offers to this pool, which means **minimize** the wrongly predicted converted-customers (**FP**) "
   ]
  },
  {
   "cell_type": "code",
   "execution_count": 141,
   "metadata": {
    "scrolled": true
   },
   "outputs": [
    {
     "data": {
      "text/plain": [
       "[Text(0.5, 1.0, 'Total Conversion Rate Distribution')]"
      ]
     },
     "execution_count": 141,
     "metadata": {},
     "output_type": "execute_result"
    },
    {
     "data": {
      "image/png": "[encoded data removed]",
      "text/plain": [
       "<Figure size 432x288 with 1 Axes>"
      ]
     },
     "metadata": {
      "needs_background": "light"
     },
     "output_type": "display_data"
    }
   ],
   "source": [
    "sns.distplot(customer_promo['total_cr']).set(title='Total Conversion Rate Distribution')"
   ]
  },
  {
   "cell_type": "code",
   "execution_count": 142,
   "metadata": {},
   "outputs": [
    {
     "data": {
      "text/plain": [
       "[Text(0.5, 1.0, 'Conversion Labels')]"
      ]
     },
     "execution_count": 142,
     "metadata": {},
     "output_type": "execute_result"
    },
    {
     "data": {
      "image/png": "[encoded data removed]",
      "text/plain": [
       "<Figure size 432x288 with 1 Axes>"
      ]
     },
     "metadata": {
      "needs_background": "light"
     },
     "output_type": "display_data"
    }
   ],
   "source": [
    "sns.countplot(offers_simp['completed_valid']).set(title='Conversion Labels')"
   ]
  },
  {
   "cell_type": "code",
   "execution_count": 143,
   "metadata": {},
   "outputs": [
    {
     "data": {
      "text/html": [
       "<div>\n",
       "<style scoped>\n",
       "    .dataframe tbody tr th:only-of-type {\n",
       "        vertical-align: middle;\n",
       "    }\n",
       "\n",
       "    .dataframe tbody tr th {\n",
       "        vertical-align: top;\n",
       "    }\n",
       "\n",
       "    .dataframe thead th {\n",
       "        text-align: right;\n",
       "    }\n",
       "</style>\n",
       "<table border=\"1\" class=\"dataframe\">\n",
       "  <thead>\n",
       "    <tr style=\"text-align: right;\">\n",
       "      <th></th>\n",
       "      <th>customer_id</th>\n",
       "      <th>offer_id</th>\n",
       "      <th>day</th>\n",
       "      <th>gender</th>\n",
       "      <th>age</th>\n",
       "      <th>became_member_on</th>\n",
       "      <th>income</th>\n",
       "      <th>F</th>\n",
       "      <th>M</th>\n",
       "      <th>O</th>\n",
       "      <th>...</th>\n",
       "      <th>informational</th>\n",
       "      <th>offer completed</th>\n",
       "      <th>offer received</th>\n",
       "      <th>offer viewed</th>\n",
       "      <th>received_time</th>\n",
       "      <th>viewed_time</th>\n",
       "      <th>completed_time</th>\n",
       "      <th>due_time</th>\n",
       "      <th>viewed_valid</th>\n",
       "      <th>completed_valid</th>\n",
       "    </tr>\n",
       "  </thead>\n",
       "  <tbody>\n",
       "    <tr>\n",
       "      <th>1</th>\n",
       "      <td>0009655768c64bdeb2e877511632db8f</td>\n",
       "      <td>3f207df678b143eea3cee63160fa8bed</td>\n",
       "      <td>16.5</td>\n",
       "      <td>M</td>\n",
       "      <td>33</td>\n",
       "      <td>2017-04-21</td>\n",
       "      <td>72000.0</td>\n",
       "      <td>0</td>\n",
       "      <td>1</td>\n",
       "      <td>0</td>\n",
       "      <td>...</td>\n",
       "      <td>1</td>\n",
       "      <td>0</td>\n",
       "      <td>1</td>\n",
       "      <td>1</td>\n",
       "      <td>14.5</td>\n",
       "      <td>16.5</td>\n",
       "      <td>0.0</td>\n",
       "      <td>18.5</td>\n",
       "      <td>1</td>\n",
       "      <td>0</td>\n",
       "    </tr>\n",
       "    <tr>\n",
       "      <th>2</th>\n",
       "      <td>0009655768c64bdeb2e877511632db8f</td>\n",
       "      <td>5a8bc65990b245e5a138643cd4eb9837</td>\n",
       "      <td>8.5</td>\n",
       "      <td>M</td>\n",
       "      <td>33</td>\n",
       "      <td>2017-04-21</td>\n",
       "      <td>72000.0</td>\n",
       "      <td>0</td>\n",
       "      <td>1</td>\n",
       "      <td>0</td>\n",
       "      <td>...</td>\n",
       "      <td>1</td>\n",
       "      <td>0</td>\n",
       "      <td>1</td>\n",
       "      <td>1</td>\n",
       "      <td>7.5</td>\n",
       "      <td>8.5</td>\n",
       "      <td>0.0</td>\n",
       "      <td>10.5</td>\n",
       "      <td>1</td>\n",
       "      <td>0</td>\n",
       "    </tr>\n",
       "    <tr>\n",
       "      <th>5</th>\n",
       "      <td>0011e0d4e6b944f998e987f904e8c1e5</td>\n",
       "      <td>0b1e1539f2cc45b7b9fa7c272da2e1d7</td>\n",
       "      <td>24.5</td>\n",
       "      <td>O</td>\n",
       "      <td>40</td>\n",
       "      <td>2018-01-09</td>\n",
       "      <td>57000.0</td>\n",
       "      <td>0</td>\n",
       "      <td>0</td>\n",
       "      <td>1</td>\n",
       "      <td>...</td>\n",
       "      <td>0</td>\n",
       "      <td>1</td>\n",
       "      <td>1</td>\n",
       "      <td>1</td>\n",
       "      <td>17.5</td>\n",
       "      <td>18.5</td>\n",
       "      <td>24.5</td>\n",
       "      <td>27.5</td>\n",
       "      <td>1</td>\n",
       "      <td>1</td>\n",
       "    </tr>\n",
       "    <tr>\n",
       "      <th>6</th>\n",
       "      <td>0011e0d4e6b944f998e987f904e8c1e5</td>\n",
       "      <td>2298d6c36e964ae4a3e7e9706d1fb8c2</td>\n",
       "      <td>11.5</td>\n",
       "      <td>O</td>\n",
       "      <td>40</td>\n",
       "      <td>2018-01-09</td>\n",
       "      <td>57000.0</td>\n",
       "      <td>0</td>\n",
       "      <td>0</td>\n",
       "      <td>1</td>\n",
       "      <td>...</td>\n",
       "      <td>0</td>\n",
       "      <td>1</td>\n",
       "      <td>1</td>\n",
       "      <td>1</td>\n",
       "      <td>7.5</td>\n",
       "      <td>8.5</td>\n",
       "      <td>11.5</td>\n",
       "      <td>14.5</td>\n",
       "      <td>1</td>\n",
       "      <td>1</td>\n",
       "    </tr>\n",
       "    <tr>\n",
       "      <th>7</th>\n",
       "      <td>0011e0d4e6b944f998e987f904e8c1e5</td>\n",
       "      <td>3f207df678b143eea3cee63160fa8bed</td>\n",
       "      <td>1.5</td>\n",
       "      <td>O</td>\n",
       "      <td>40</td>\n",
       "      <td>2018-01-09</td>\n",
       "      <td>57000.0</td>\n",
       "      <td>0</td>\n",
       "      <td>0</td>\n",
       "      <td>1</td>\n",
       "      <td>...</td>\n",
       "      <td>1</td>\n",
       "      <td>0</td>\n",
       "      <td>1</td>\n",
       "      <td>1</td>\n",
       "      <td>0.5</td>\n",
       "      <td>1.5</td>\n",
       "      <td>0.0</td>\n",
       "      <td>4.5</td>\n",
       "      <td>1</td>\n",
       "      <td>0</td>\n",
       "    </tr>\n",
       "  </tbody>\n",
       "</table>\n",
       "<p>5 rows × 30 columns</p>\n",
       "</div>"
      ],
      "text/plain": [
       "                        customer_id                          offer_id   day  \\\n",
       "1  0009655768c64bdeb2e877511632db8f  3f207df678b143eea3cee63160fa8bed  16.5   \n",
       "2  0009655768c64bdeb2e877511632db8f  5a8bc65990b245e5a138643cd4eb9837   8.5   \n",
       "5  0011e0d4e6b944f998e987f904e8c1e5  0b1e1539f2cc45b7b9fa7c272da2e1d7  24.5   \n",
       "6  0011e0d4e6b944f998e987f904e8c1e5  2298d6c36e964ae4a3e7e9706d1fb8c2  11.5   \n",
       "7  0011e0d4e6b944f998e987f904e8c1e5  3f207df678b143eea3cee63160fa8bed   1.5   \n",
       "\n",
       "  gender  age became_member_on   income  F  M  O  ...  informational  \\\n",
       "1      M   33       2017-04-21  72000.0  0  1  0  ...              1   \n",
       "2      M   33       2017-04-21  72000.0  0  1  0  ...              1   \n",
       "5      O   40       2018-01-09  57000.0  0  0  1  ...              0   \n",
       "6      O   40       2018-01-09  57000.0  0  0  1  ...              0   \n",
       "7      O   40       2018-01-09  57000.0  0  0  1  ...              1   \n",
       "\n",
       "   offer completed  offer received offer viewed  received_time  viewed_time  \\\n",
       "1                0               1            1           14.5         16.5   \n",
       "2                0               1            1            7.5          8.5   \n",
       "5                1               1            1           17.5         18.5   \n",
       "6                1               1            1            7.5          8.5   \n",
       "7                0               1            1            0.5          1.5   \n",
       "\n",
       "   completed_time  due_time  viewed_valid  completed_valid  \n",
       "1             0.0      18.5             1                0  \n",
       "2             0.0      10.5             1                0  \n",
       "5            24.5      27.5             1                1  \n",
       "6            11.5      14.5             1                1  \n",
       "7             0.0       4.5             1                0  \n",
       "\n",
       "[5 rows x 30 columns]"
      ]
     },
     "execution_count": 143,
     "metadata": {},
     "output_type": "execute_result"
    }
   ],
   "source": [
    "offers_simp.head()"
   ]
  },
  {
   "cell_type": "markdown",
   "metadata": {},
   "source": [
    "**Note**\n",
    "- use offers_simp df for creating predictive model\n",
    "- remove informational offers because they don't convert customers\n",
    "- remove unnecessary columns"
   ]
  },
  {
   "cell_type": "code",
   "execution_count": 144,
   "metadata": {},
   "outputs": [
    {
     "data": {
      "text/plain": [
       "Index(['customer_id', 'offer_id', 'day', 'gender', 'age', 'became_member_on',\n",
       "       'income', 'F', 'M', 'O', 'reward', 'difficulty', 'duration',\n",
       "       'offer_type', 'channel_email', 'channel_mobile', 'channel_social',\n",
       "       'channel_web', 'bogo', 'discount', 'informational', 'offer completed',\n",
       "       'offer received', 'offer viewed', 'received_time', 'viewed_time',\n",
       "       'completed_time', 'due_time', 'viewed_valid', 'completed_valid'],\n",
       "      dtype='object')"
      ]
     },
     "execution_count": 144,
     "metadata": {},
     "output_type": "execute_result"
    }
   ],
   "source": [
    "offers_simp.columns"
   ]
  },
  {
   "cell_type": "code",
   "execution_count": 145,
   "metadata": {},
   "outputs": [
    {
     "data": {
      "text/html": [
       "<div>\n",
       "<style scoped>\n",
       "    .dataframe tbody tr th:only-of-type {\n",
       "        vertical-align: middle;\n",
       "    }\n",
       "\n",
       "    .dataframe tbody tr th {\n",
       "        vertical-align: top;\n",
       "    }\n",
       "\n",
       "    .dataframe thead th {\n",
       "        text-align: right;\n",
       "    }\n",
       "</style>\n",
       "<table border=\"1\" class=\"dataframe\">\n",
       "  <thead>\n",
       "    <tr style=\"text-align: right;\">\n",
       "      <th></th>\n",
       "      <th>income</th>\n",
       "      <th>F</th>\n",
       "      <th>M</th>\n",
       "      <th>O</th>\n",
       "      <th>reward</th>\n",
       "      <th>difficulty</th>\n",
       "      <th>duration</th>\n",
       "      <th>channel_mobile</th>\n",
       "      <th>channel_social</th>\n",
       "      <th>channel_web</th>\n",
       "      <th>bogo</th>\n",
       "      <th>discount</th>\n",
       "      <th>informational</th>\n",
       "      <th>completed_valid</th>\n",
       "    </tr>\n",
       "  </thead>\n",
       "  <tbody>\n",
       "    <tr>\n",
       "      <th>1</th>\n",
       "      <td>72000.0</td>\n",
       "      <td>0</td>\n",
       "      <td>1</td>\n",
       "      <td>0</td>\n",
       "      <td>0</td>\n",
       "      <td>0</td>\n",
       "      <td>4</td>\n",
       "      <td>1</td>\n",
       "      <td>0</td>\n",
       "      <td>1</td>\n",
       "      <td>0</td>\n",
       "      <td>0</td>\n",
       "      <td>1</td>\n",
       "      <td>0</td>\n",
       "    </tr>\n",
       "    <tr>\n",
       "      <th>2</th>\n",
       "      <td>72000.0</td>\n",
       "      <td>0</td>\n",
       "      <td>1</td>\n",
       "      <td>0</td>\n",
       "      <td>0</td>\n",
       "      <td>0</td>\n",
       "      <td>3</td>\n",
       "      <td>1</td>\n",
       "      <td>1</td>\n",
       "      <td>0</td>\n",
       "      <td>0</td>\n",
       "      <td>0</td>\n",
       "      <td>1</td>\n",
       "      <td>0</td>\n",
       "    </tr>\n",
       "    <tr>\n",
       "      <th>5</th>\n",
       "      <td>57000.0</td>\n",
       "      <td>0</td>\n",
       "      <td>0</td>\n",
       "      <td>1</td>\n",
       "      <td>5</td>\n",
       "      <td>20</td>\n",
       "      <td>10</td>\n",
       "      <td>0</td>\n",
       "      <td>0</td>\n",
       "      <td>1</td>\n",
       "      <td>0</td>\n",
       "      <td>1</td>\n",
       "      <td>0</td>\n",
       "      <td>1</td>\n",
       "    </tr>\n",
       "    <tr>\n",
       "      <th>6</th>\n",
       "      <td>57000.0</td>\n",
       "      <td>0</td>\n",
       "      <td>0</td>\n",
       "      <td>1</td>\n",
       "      <td>3</td>\n",
       "      <td>7</td>\n",
       "      <td>7</td>\n",
       "      <td>1</td>\n",
       "      <td>1</td>\n",
       "      <td>1</td>\n",
       "      <td>0</td>\n",
       "      <td>1</td>\n",
       "      <td>0</td>\n",
       "      <td>1</td>\n",
       "    </tr>\n",
       "    <tr>\n",
       "      <th>7</th>\n",
       "      <td>57000.0</td>\n",
       "      <td>0</td>\n",
       "      <td>0</td>\n",
       "      <td>1</td>\n",
       "      <td>0</td>\n",
       "      <td>0</td>\n",
       "      <td>4</td>\n",
       "      <td>1</td>\n",
       "      <td>0</td>\n",
       "      <td>1</td>\n",
       "      <td>0</td>\n",
       "      <td>0</td>\n",
       "      <td>1</td>\n",
       "      <td>0</td>\n",
       "    </tr>\n",
       "  </tbody>\n",
       "</table>\n",
       "</div>"
      ],
      "text/plain": [
       "    income  F  M  O  reward  difficulty  duration  channel_mobile  \\\n",
       "1  72000.0  0  1  0       0           0         4               1   \n",
       "2  72000.0  0  1  0       0           0         3               1   \n",
       "5  57000.0  0  0  1       5          20        10               0   \n",
       "6  57000.0  0  0  1       3           7         7               1   \n",
       "7  57000.0  0  0  1       0           0         4               1   \n",
       "\n",
       "   channel_social  channel_web  bogo  discount  informational  completed_valid  \n",
       "1               0            1     0         0              1                0  \n",
       "2               1            0     0         0              1                0  \n",
       "5               0            1     0         1              0                1  \n",
       "6               1            1     0         1              0                1  \n",
       "7               0            1     0         0              1                0  "
      ]
     },
     "execution_count": 145,
     "metadata": {},
     "output_type": "execute_result"
    }
   ],
   "source": [
    "promo = offers_simp.copy()\n",
    "\n",
    "# Remove unnecessary information\n",
    "promo.drop(['customer_id', 'offer_id', 'day', 'gender', 'age', 'became_member_on', 'offer_type', \n",
    "            'offer completed','offer received', 'offer viewed', 'received_time', 'viewed_time', 'completed_time', \n",
    "            'due_time', 'viewed_valid', 'channel_email'], axis=1, inplace=True)\n",
    "promo.head()"
   ]
  },
  {
   "cell_type": "code",
   "execution_count": 146,
   "metadata": {},
   "outputs": [
    {
     "data": {
      "text/plain": [
       "completed_valid    1.000000\n",
       "duration           0.331297\n",
       "discount           0.255206\n",
       "difficulty         0.246160\n",
       "reward             0.204958\n",
       "channel_social     0.204233\n",
       "channel_web        0.203413\n",
       "income             0.169726\n",
       "bogo               0.141311\n",
       "F                  0.113899\n",
       "channel_mobile     0.063957\n",
       "O                  0.021396\n",
       "M                 -0.118454\n",
       "informational     -0.457464\n",
       "Name: completed_valid, dtype: float64"
      ]
     },
     "execution_count": 146,
     "metadata": {},
     "output_type": "execute_result"
    }
   ],
   "source": [
    "promo.corr()['completed_valid'].sort_values(ascending=False)"
   ]
  },
  {
   "cell_type": "code",
   "execution_count": 147,
   "metadata": {},
   "outputs": [
    {
     "data": {
      "text/plain": [
       "<AxesSubplot:>"
      ]
     },
     "execution_count": 147,
     "metadata": {},
     "output_type": "execute_result"
    },
    {
     "data": {
      "image/png": "[encoded data removed]",
      "text/plain": [
       "<Figure size 1008x576 with 2 Axes>"
      ]
     },
     "metadata": {
      "needs_background": "light"
     },
     "output_type": "display_data"
    }
   ],
   "source": [
    "plt.figure(figsize=(14,8))\n",
    "sns.heatmap(promo.corr(),annot=True, cmap='coolwarm',fmt='.1g')"
   ]
  },
  {
   "cell_type": "markdown",
   "metadata": {},
   "source": [
    "**__ Insights __**\n",
    "\n",
    "Compared to the previous Pearson correlation analysis, factors that positively correlated with customer converted stay the same. The top factors are the **offers' attributes**: promotions' duration, difficulty, amount reward, and advertisement platform. Customers are more likely to utilize **discounts** than BOGO. "
   ]
  },
  {
   "cell_type": "markdown",
   "metadata": {},
   "source": [
    "### D2.a. Train - Test Split"
   ]
  },
  {
   "cell_type": "code",
   "execution_count": 148,
   "metadata": {},
   "outputs": [],
   "source": [
    "X = promo.drop('completed_valid',axis=1)\n",
    "y = promo['completed_valid']"
   ]
  },
  {
   "cell_type": "code",
   "execution_count": 149,
   "metadata": {},
   "outputs": [],
   "source": [
    "X_train, X_test, y_train, y_test = train_test_split(X, y, test_size=0.3, random_state=42)"
   ]
  },
  {
   "cell_type": "markdown",
   "metadata": {},
   "source": [
    "### D2.b. Tuning Parameters"
   ]
  },
  {
   "cell_type": "markdown",
   "metadata": {},
   "source": [
    "#### KNN"
   ]
  },
  {
   "cell_type": "code",
   "execution_count": 150,
   "metadata": {},
   "outputs": [],
   "source": [
    "k_range = range(1,41)\n",
    "param_grid_knn = dict(n_neighbors=k_range)\n",
    "\n",
    "for k in k_range:\n",
    "    grid_knn = GridSearchCV(KNeighborsClassifier(n_neighbors=k), param_grid_knn, cv=10,scoring='accuracy')"
   ]
  },
  {
   "cell_type": "code",
   "execution_count": 151,
   "metadata": {},
   "outputs": [
    {
     "data": {
      "text/plain": [
       "GridSearchCV(cv=10, estimator=KNeighborsClassifier(n_neighbors=40),\n",
       "             param_grid={'n_neighbors': range(1, 41)}, scoring='accuracy')"
      ]
     },
     "execution_count": 151,
     "metadata": {},
     "output_type": "execute_result"
    }
   ],
   "source": [
    "grid_knn.fit(X_train,y_train)"
   ]
  },
  {
   "cell_type": "code",
   "execution_count": 152,
   "metadata": {},
   "outputs": [
    {
     "data": {
      "text/plain": [
       "{'n_neighbors': 31}"
      ]
     },
     "execution_count": 152,
     "metadata": {},
     "output_type": "execute_result"
    }
   ],
   "source": [
    "grid_knn.best_params_"
   ]
  },
  {
   "cell_type": "markdown",
   "metadata": {},
   "source": [
    "### D2.c. Train the models"
   ]
  },
  {
   "cell_type": "code",
   "execution_count": 153,
   "metadata": {},
   "outputs": [],
   "source": [
    "# instantiate and fit the models on the training set\n",
    "log = LogisticRegression().fit(X_train, y_train)\n",
    "knn = KNeighborsClassifier(n_neighbors=31).fit(X_train, y_train)\n",
    "rfc = RandomForestClassifier().fit(X_train, y_train)"
   ]
  },
  {
   "cell_type": "code",
   "execution_count": 154,
   "metadata": {},
   "outputs": [],
   "source": [
    "models = [log, knn, rfc]\n",
    "models_names = ['Logistic Regression', 'KNN', 'Random Forest']"
   ]
  },
  {
   "cell_type": "code",
   "execution_count": 155,
   "metadata": {},
   "outputs": [],
   "source": [
    "scoring = ['accuracy','precision','recall']\n",
    "train_accuracy = []\n",
    "train_precision = []\n",
    "train_recall = []\n",
    "train_std = []\n",
    "\n",
    "train_scoring = {}\n",
    "for i,model in enumerate (models):\n",
    "    scores = cross_validate(model, X_train, y_train, cv=10, scoring=scoring)\n",
    "    train_accuracy.append(scores['test_accuracy'].mean())\n",
    "    train_precision.append(scores['test_precision'].mean())\n",
    "    train_recall.append(scores['test_recall'].mean())\n",
    "    train_std.append(scores['test_accuracy'].std())\n",
    "    \n",
    "    train_scoring[i] = scores['test_accuracy'] # for graphing purpose below"
   ]
  },
  {
   "cell_type": "code",
   "execution_count": 156,
   "metadata": {},
   "outputs": [
    {
     "name": "stdout",
     "output_type": "stream",
     "text": [
      "Models Training Scores\n"
     ]
    },
    {
     "data": {
      "text/html": [
       "<div>\n",
       "<style scoped>\n",
       "    .dataframe tbody tr th:only-of-type {\n",
       "        vertical-align: middle;\n",
       "    }\n",
       "\n",
       "    .dataframe tbody tr th {\n",
       "        vertical-align: top;\n",
       "    }\n",
       "\n",
       "    .dataframe thead th {\n",
       "        text-align: right;\n",
       "    }\n",
       "</style>\n",
       "<table border=\"1\" class=\"dataframe\">\n",
       "  <thead>\n",
       "    <tr style=\"text-align: right;\">\n",
       "      <th></th>\n",
       "      <th>Accuracy</th>\n",
       "      <th>Precision</th>\n",
       "      <th>Recall</th>\n",
       "      <th>Standard Deviation</th>\n",
       "    </tr>\n",
       "  </thead>\n",
       "  <tbody>\n",
       "    <tr>\n",
       "      <th>Logistic Regression</th>\n",
       "      <td>0.589754</td>\n",
       "      <td>0.000000</td>\n",
       "      <td>0.000000</td>\n",
       "      <td>0.000107</td>\n",
       "    </tr>\n",
       "    <tr>\n",
       "      <th>KNN</th>\n",
       "      <td>0.737267</td>\n",
       "      <td>0.664789</td>\n",
       "      <td>0.725406</td>\n",
       "      <td>0.006744</td>\n",
       "    </tr>\n",
       "    <tr>\n",
       "      <th>Random Forest</th>\n",
       "      <td>0.729649</td>\n",
       "      <td>0.658152</td>\n",
       "      <td>0.709751</td>\n",
       "      <td>0.007135</td>\n",
       "    </tr>\n",
       "  </tbody>\n",
       "</table>\n",
       "</div>"
      ],
      "text/plain": [
       "                     Accuracy  Precision    Recall  Standard Deviation\n",
       "Logistic Regression  0.589754   0.000000  0.000000            0.000107\n",
       "KNN                  0.737267   0.664789  0.725406            0.006744\n",
       "Random Forest        0.729649   0.658152  0.709751            0.007135"
      ]
     },
     "execution_count": 156,
     "metadata": {},
     "output_type": "execute_result"
    }
   ],
   "source": [
    "train_scores = pd.DataFrame(list(zip(train_accuracy,train_precision,train_recall,train_std)),\n",
    "                            index=models_names,columns=['Accuracy','Precision','Recall','Standard Deviation'])\n",
    "print('Models Training Scores')\n",
    "train_scores"
   ]
  },
  {
   "cell_type": "markdown",
   "metadata": {},
   "source": [
    "### D2.d. Compare the models"
   ]
  },
  {
   "cell_type": "code",
   "execution_count": 157,
   "metadata": {},
   "outputs": [
    {
     "data": {
      "text/plain": [
       "Text(0, 0.5, 'Accuracy rate')"
      ]
     },
     "execution_count": 157,
     "metadata": {},
     "output_type": "execute_result"
    },
    {
     "data": {
      "image/png": "[encoded data removed]",
      "text/plain": [
       "<Figure size 720x432 with 1 Axes>"
      ]
     },
     "metadata": {
      "needs_background": "light"
     },
     "output_type": "display_data"
    }
   ],
   "source": [
    "fig, ax = plt.subplots(figsize=(10,6))\n",
    "ax.boxplot(train_scoring.values())\n",
    "ax.set_xticklabels(['Log','KNN','RFC'])\n",
    "\n",
    "plt.title('Models Accuracy Comparison')\n",
    "plt.ylabel('Accuracy rate')"
   ]
  },
  {
   "cell_type": "markdown",
   "metadata": {},
   "source": [
    "**__ Insights __**\n",
    "\n",
    "Logistic Regression model produces 0.0 scores on precision and recall. This inidicates that this model can't predict 1's label due to imbalanced data. It could have been trained with dominant 0's label. \n",
    "\n",
    "KNN model achieves the high scores in all the metrics, followed by RFC"
   ]
  },
  {
   "cell_type": "markdown",
   "metadata": {},
   "source": [
    "### D2.e. Test the Models"
   ]
  },
  {
   "cell_type": "code",
   "execution_count": 158,
   "metadata": {},
   "outputs": [
    {
     "name": "stdout",
     "output_type": "stream",
     "text": [
      "\n",
      "\n",
      "Logistic Regression\n",
      "              precision    recall  f1-score   support\n",
      "\n",
      "           0       0.59      1.00      0.74      8418\n",
      "           1       0.00      0.00      0.00      5929\n",
      "\n",
      "    accuracy                           0.59     14347\n",
      "   macro avg       0.29      0.50      0.37     14347\n",
      "weighted avg       0.34      0.59      0.43     14347\n",
      "\n",
      "[[8418    0]\n",
      " [5929    0]]\n",
      "\n",
      "\n",
      "KNN\n",
      "              precision    recall  f1-score   support\n",
      "\n",
      "           0       0.79      0.76      0.77      8418\n",
      "           1       0.67      0.71      0.69      5929\n",
      "\n",
      "    accuracy                           0.74     14347\n",
      "   macro avg       0.73      0.73      0.73     14347\n",
      "weighted avg       0.74      0.74      0.74     14347\n",
      "\n",
      "[[6369 2049]\n",
      " [1728 4201]]\n",
      "\n",
      "\n",
      "Random Forest\n",
      "              precision    recall  f1-score   support\n",
      "\n",
      "           0       0.79      0.75      0.77      8418\n",
      "           1       0.67      0.71      0.69      5929\n",
      "\n",
      "    accuracy                           0.73     14347\n",
      "   macro avg       0.73      0.73      0.73     14347\n",
      "weighted avg       0.74      0.73      0.74     14347\n",
      "\n",
      "[[6337 2081]\n",
      " [1724 4205]]\n"
     ]
    }
   ],
   "source": [
    "accuracy_scores = []\n",
    "precision_scores = []\n",
    "recall_scores = []\n",
    "error_rate = []\n",
    "\n",
    "for i,model in enumerate (models):\n",
    "    y_pred = model.predict(X_test)\n",
    "    conf_matrix = confusion_matrix(y_test,y_pred)\n",
    "    \n",
    "    print('\\n')\n",
    "    print(models_names[i])\n",
    "    print(classification_report(y_test,y_pred))\n",
    "    '\\n'\n",
    "    print(conf_matrix)\n",
    "    \n",
    "    tn = conf_matrix[0,0]\n",
    "    fp = conf_matrix[0,1]\n",
    "    tp = conf_matrix[1,1]\n",
    "    fn = conf_matrix[1,0]\n",
    "    \n",
    "    total = tn + fp + tp + fn\n",
    "\n",
    "    accuracy  = (tp + tn) / total # Accuracy Rate\n",
    "    precision = tp / (tp + fp) # Positive Predictive Value\n",
    "    recall    = tp / (tp + fn) # True Positive Rate\n",
    "    error = (fp + fn) / total # Missclassification Rate\n",
    " \n",
    "    accuracy_scores.append(accuracy)\n",
    "    precision_scores.append(precision)\n",
    "    recall_scores.append(recall)\n",
    "    error_rate.append(error)"
   ]
  },
  {
   "cell_type": "code",
   "execution_count": 159,
   "metadata": {},
   "outputs": [
    {
     "name": "stdout",
     "output_type": "stream",
     "text": [
      "Models Evaluation from Test Set\n"
     ]
    },
    {
     "data": {
      "text/html": [
       "<div>\n",
       "<style scoped>\n",
       "    .dataframe tbody tr th:only-of-type {\n",
       "        vertical-align: middle;\n",
       "    }\n",
       "\n",
       "    .dataframe tbody tr th {\n",
       "        vertical-align: top;\n",
       "    }\n",
       "\n",
       "    .dataframe thead th {\n",
       "        text-align: right;\n",
       "    }\n",
       "</style>\n",
       "<table border=\"1\" class=\"dataframe\">\n",
       "  <thead>\n",
       "    <tr style=\"text-align: right;\">\n",
       "      <th></th>\n",
       "      <th>Accuracy</th>\n",
       "      <th>Precision</th>\n",
       "      <th>Recall</th>\n",
       "      <th>Error Rate</th>\n",
       "    </tr>\n",
       "  </thead>\n",
       "  <tbody>\n",
       "    <tr>\n",
       "      <th>Logistic Regression</th>\n",
       "      <td>0.586743</td>\n",
       "      <td>NaN</td>\n",
       "      <td>0.000000</td>\n",
       "      <td>0.413257</td>\n",
       "    </tr>\n",
       "    <tr>\n",
       "      <th>KNN</th>\n",
       "      <td>0.736739</td>\n",
       "      <td>0.672160</td>\n",
       "      <td>0.708551</td>\n",
       "      <td>0.263261</td>\n",
       "    </tr>\n",
       "    <tr>\n",
       "      <th>Random Forest</th>\n",
       "      <td>0.734788</td>\n",
       "      <td>0.668947</td>\n",
       "      <td>0.709226</td>\n",
       "      <td>0.265212</td>\n",
       "    </tr>\n",
       "  </tbody>\n",
       "</table>\n",
       "</div>"
      ],
      "text/plain": [
       "                     Accuracy  Precision    Recall  Error Rate\n",
       "Logistic Regression  0.586743        NaN  0.000000    0.413257\n",
       "KNN                  0.736739   0.672160  0.708551    0.263261\n",
       "Random Forest        0.734788   0.668947  0.709226    0.265212"
      ]
     },
     "execution_count": 159,
     "metadata": {},
     "output_type": "execute_result"
    }
   ],
   "source": [
    "scores_df = pd.DataFrame(list(zip(accuracy_scores,precision_scores,recall_scores,error_rate)),index=models_names,columns=['Accuracy','Precision','Recall','Error Rate'])\n",
    "print('Models Evaluation from Test Set')\n",
    "scores_df"
   ]
  },
  {
   "cell_type": "markdown",
   "metadata": {},
   "source": [
    "### D2.f. Conclusion\n",
    "\n",
    "KNN performs best on this dataset with high accuracy and precision scores, and the smaller error rate compared to Random Forest."
   ]
  },
  {
   "cell_type": "markdown",
   "metadata": {},
   "source": [
    "# E. Conclusion and Discussion\n",
    "\n",
    "At a high level, purchases made during this promotion period carry some charactersistics:\n",
    "- Customers are more receptive to discounts and BOGOs\n",
    "- Male are hihgly interactive with offers (receive, view, and complete). They are also the customers that currently receive more offers compared to other genders (female, other, unspecified)\n",
    "- Most amount spent is up to 200 USD\n",
    "- Amount spent is in correlation with customers' incomes. \n",
    "\n",
    "## Offer personalization\n",
    "\n",
    "Based on the segmentation analysis, **4 groups of customers** were identified. Three (3) clusters convert well and make regular purchases.\n",
    "\n",
    "**Receive offers regularly**: \n",
    "- convert very well\n",
    "- is also currently the target audience to receive many offers compared to other genders in all age group\n",
    "- male and female identified\n",
    "\n",
    "**Receive BOGOs**:\n",
    "- convert very well\n",
    "- mainly receive BOGOs offers and utilize them\n",
    "- male and female identified\n",
    "\n",
    "**Don't receive BOGOs at all, but mainly discounts**\n",
    "- rarely receive any BOGOs\n",
    "- make frequent purchases with or without offers\n",
    "\n",
    "**Receive many offers but don't convert**\n",
    "- frequently receive offers but never open nor complete\n",
    "- mainly male\n",
    "\n",
    "We can continue to send out offers that are **discount and BOGO** since they drive customers' buying decisions. The reward value also excite customers.\n",
    "\n",
    "The source of offers that highly correlates with conversion rate are **social and website**. Here is the cue that we should focus on optimizing the presentation of offers on Starbucks social platform and homepage.\n",
    "\n",
    "## How effective are the offers?\n",
    "\n",
    "Currently, purchase usually comes from Discount then BOGO \n",
    "- current converion rate is 21.8%**\n",
    "- view rate is 33.5%\n",
    "    \n",
    "However, the offers are significantly spent on one wrong audience, whom don't interact with the offers. This group is the second large in size of this test. The KNN predictve model produces an accuracy scores of about 73% on both train and validation data sets. This indicates that the model is effective enough to predict the conversion of customers who receive offers.\n",
    "\n",
    "## Next steps\n",
    "\n",
    "More sophisticated strategies could be employed to achieve a higher conversion rate among Starbucks customers. Uplift modeling can be used to identify the right customer group for a specific promotion. The uplift model method of \"two classifiers\" can be used. The process will consist of two steps: \n",
    "\n",
    "1. Conduct a randomized A/B test, in which the treatment group of customers receives and offers and the control group does not. Train classifiers to predict the likelihood (probability) of conversion for both groups. Add two classifiers into one using a special library (upliftML , casualML). Use a combined classifier on the entire customer base to identify customers with high conversion probability.\n",
    "2. Conduct a second A/B test, in which the treatment group is customers with a high conversion probability receive promo offers and the control group consisting of random customers also receive promo offers. Calculate lift as the difference in total conversion or total amount spent. \n",
    "\n",
    "This method allows for more quantitative customer segmentation and promo offerings, rather than qualitative, human-decision-based strategies.   \n",
    "\n"
   ]
  },
  {
   "cell_type": "markdown",
   "metadata": {},
   "source": [
    "# References\n",
    "\n",
    "- Udacity Data Science Capstone project\n",
    "- Starbucks"
   ]
  }
 ],
 "metadata": {
  "kernelspec": {
   "display_name": "Python 3 (ipykernel)",
   "language": "python",
   "name": "python3"
  },
  "language_info": {
   "codemirror_mode": {
    "name": "ipython",
    "version": 3
   },
   "file_extension": ".py",
   "mimetype": "text/x-python",
   "name": "python",
   "nbconvert_exporter": "python",
   "pygments_lexer": "ipython3",
   "version": "3.11.4"
  }
 },
 "nbformat": 4,
 "nbformat_minor": 4
}
